{
 "cells": [
  {
   "cell_type": "markdown",
   "metadata": {},
   "source": [
    "## Tugas Pengantar Pemrograman \n",
    "# Nama = Alwansyah\n",
    "# NIM  = H061241090"
   ]
  },
  {
   "cell_type": "markdown",
   "metadata": {},
   "source": [
    "**Soal 1**: Seorang pelanggan membeli baju di toko. Jika 3 angka terakhir NIM Anda > 600, dia mendapatkan diskon 20%. Jika tidak, diskon 10%. Buat program untuk menghitung total harga."
   ]
  },
  {
   "cell_type": "code",
   "execution_count": 1,
   "metadata": {},
   "outputs": [
    {
     "name": "stdout",
     "output_type": "stream",
     "text": [
      "Diskon yang didapatkan: 10%\n",
      "Jadi total harga setelah diskon: Rp 135000.00\n"
     ]
    }
   ],
   "source": [
    "harga = 150000\n",
    "nim = 90   \n",
    "if nim > 600:\n",
    "    diskon = 0.20\n",
    "else:\n",
    "    diskon = 0.10\n",
    "\n",
    "total_harga = harga - (harga * diskon)\n",
    "print(f\"Diskon yang didapatkan: {int(diskon * 100)}%\")\n",
    "print(f\"Jadi total harga setelah diskon: Rp {total_harga:.2f}\")"
   ]
  },
  {
   "cell_type": "markdown",
   "metadata": {},
   "source": [
    "**Soal 2**: Seorang siswa ingin menentukan apakah dia mendapatkan beasiswa. Jika 3 angka terakhir NIM Anda genap, syaratnya nilai >= 85. Jika ganjil, syaratnya nilai >= 80. Buat program untuk menentukan hasilnya."
   ]
  },
  {
   "cell_type": "code",
   "execution_count": 2,
   "metadata": {},
   "outputs": [
    {
     "name": "stdout",
     "output_type": "stream",
     "text": [
      "Siswa mendapatkan beasiswa.\n"
     ]
    }
   ],
   "source": [
    "nilai = 89\n",
    "nim = 90\n",
    "\n",
    "if nim % 2 == 0:\n",
    "    syarat = 85\n",
    "else:\n",
    "    syarat = 80\n",
    "\n",
    "if nilai >= syarat:\n",
    "    print(\"Siswa mendapatkan beasiswa.\")\n",
    "else:\n",
    "    print(\"Siswa tidak mendapatkan beasiswa.\")"
   ]
  },
  {
   "cell_type": "markdown",
   "metadata": {},
   "source": [
    "**Soal 3**: Sebuah toko online memberikan diskon 15% jika total belanja di atas Rp 300.000 dikurangi 3 angka terakhir NIM Anda. Buat program untuk menghitung total harga."
   ]
  },
  {
   "cell_type": "code",
   "execution_count": 3,
   "metadata": {},
   "outputs": [
    {
     "name": "stdout",
     "output_type": "stream",
     "text": [
      "Diskon yang didapatkan: 15%\n",
      "Jadi total harga setelah diskon: Rp 323000.00\n"
     ]
    }
   ],
   "source": [
    "total_belanja = 380000\n",
    "nim = 90\n",
    "\n",
    "if total_belanja > 300000 - nim:\n",
    "    diskon = 0.15\n",
    "else:\n",
    "    diskon = 0\n",
    "\n",
    "total_harga = total_belanja - (total_belanja * diskon)\n",
    "print(f\"Diskon yang didapatkan: {int(diskon * 100)}%\")\n",
    "print(f\"Jadi total harga setelah diskon: Rp {total_harga:.2f}\")"
   ]
  },
  {
   "cell_type": "markdown",
   "metadata": {},
   "source": [
    "**Soal 4**: Seorang karyawan mendapatkan bonus jika bekerja lebih dari 50 jam. Bonusnya adalah 15% dari gaji ditambah 3 angka terakhir NIM Anda. Buat program untuk menghitung gaji karyawan."
   ]
  },
  {
   "cell_type": "code",
   "execution_count": 4,
   "metadata": {},
   "outputs": [
    {
     "name": "stdout",
     "output_type": "stream",
     "text": [
      "Tidak ada bonus. Total gaji: Rp 3700000.00\n"
     ]
    }
   ],
   "source": [
    "gaji = 3700000\n",
    "jam_kerja = 12\n",
    "nim = 90   \n",
    "\n",
    "if jam_kerja > 50:\n",
    "    bonus = (0.15 * gaji) + nim\n",
    "    total_gaji = gaji + bonus\n",
    "    print(f\"Bonus yang didapatkan: Rp {bonus:.2f}\")\n",
    "    print(f\"Jadi total gaji setelah bonus: Rp {total_gaji:.2f}\")\n",
    "else:\n",
    "    print(f\"Tidak ada bonus. Total gaji: Rp {gaji:.2f}\")"
   ]
  },
  {
   "cell_type": "markdown",
   "metadata": {},
   "source": [
    "**Soal 5**: Sebuah restoran memberikan diskon 10% untuk pesanan di atas Rp 100.000 ditambah 3 angka terakhir NIM Anda. Buat program untuk menghitung total biaya."
   ]
  },
  {
   "cell_type": "code",
   "execution_count": 5,
   "metadata": {},
   "outputs": [
    {
     "name": "stdout",
     "output_type": "stream",
     "text": [
      "Total biaya: Rp 80000.00 (Tidak ada diskon)\n"
     ]
    }
   ],
   "source": [
    "total_pesanan = 80000\n",
    "nim = 190\n",
    "\n",
    "if total_pesanan > 100000 + nim:\n",
    "    diskon = 0.10\n",
    "    total_biaya = total_pesanan - (total_pesanan * diskon)\n",
    "    print(f\"Diskon yang didapatkan: {diskon * 100}%\")\n",
    "    print(f\"Total biaya setelah diskon: Rp {total_biaya:.2f}\")\n",
    "else:\n",
    "    print(f\"Total biaya: Rp {total_pesanan:.2f} (Tidak ada diskon)\")"
   ]
  },
  {
   "cell_type": "markdown",
   "metadata": {},
   "source": [
    "**Soal 6**: Seorang pelari ingin menentukan apakah dia berhasil memenuhi target latihan. Jika jarak lari > (3 angka terakhir NIM Anda % 10) km, dia berhasil. Buat program untuk menentukan hasil latihannya."
   ]
  },
  {
   "cell_type": "code",
   "execution_count": 6,
   "metadata": {},
   "outputs": [
    {
     "name": "stdout",
     "output_type": "stream",
     "text": [
      "Selamat! Anda berhasil memenuhi target latihan (>0 km).\n"
     ]
    }
   ],
   "source": [
    "jarak_lari = 9\n",
    "nim = 90\n",
    "target_latihan = nim % 10\n",
    "\n",
    "if jarak_lari > target_latihan:\n",
    "    print(f\"Selamat! Anda berhasil memenuhi target latihan (>{target_latihan} km).\")\n",
    "else:\n",
    "    print(f\"Maaf, Anda belum memenuhi target latihan (>{target_latihan} km).\")"
   ]
  },
  {
   "cell_type": "markdown",
   "metadata": {},
   "source": [
    "**Soal 7**: Sebuah bioskop memberikan diskon 50% untuk pelajar jika 3 angka terakhir NIM Anda genap. Jika ganjil, diskon 25%. Buat program untuk menentukan harga tiket."
   ]
  },
  {
   "cell_type": "code",
   "execution_count": 7,
   "metadata": {},
   "outputs": [
    {
     "name": "stdout",
     "output_type": "stream",
     "text": [
      "Diskon yang didapatkan: 50%\n",
      "Harga tiket setelah diskon: Rp 30000.00\n"
     ]
    }
   ],
   "source": [
    "harga_tiket = 60000\n",
    "nim = 90  \n",
    "\n",
    "if nim % 2 == 0:\n",
    "    diskon = 0.50  \n",
    "else:\n",
    "    diskon = 0.25  \n",
    "\n",
    "harga_setelah_diskon = harga_tiket - (harga_tiket * diskon)\n",
    "\n",
    "print(f\"Diskon yang didapatkan: {int(diskon * 100)}%\")\n",
    "print(f\"Harga tiket setelah diskon: Rp {harga_setelah_diskon:.2f}\")"
   ]
  },
  {
   "cell_type": "markdown",
   "metadata": {},
   "source": [
    "**Soal 8**: Sebuah toko buku memberikan diskon 25% jika pelanggan membeli lebih dari 10 buku dan 3 angka terakhir NIM Anda > 400. Jika tidak, diskon 15%. Buat program untuk menghitung total harga."
   ]
  },
  {
   "cell_type": "code",
   "execution_count": 8,
   "metadata": {},
   "outputs": [
    {
     "name": "stdout",
     "output_type": "stream",
     "text": [
      "Diskon yang didapatkan: 15%\n",
      "Total harga sebelum diskon: Rp 424000.00\n",
      "Total harga setelah diskon: Rp 360400.00\n"
     ]
    }
   ],
   "source": [
    "jumlah_buku = 8\n",
    "harga_per_buku = 53000\n",
    "nim = 90 \n",
    "\n",
    "if jumlah_buku > 10 and nim > 400:\n",
    "    diskon = 0.25  \n",
    "else:\n",
    "    diskon = 0.15  \n",
    "\n",
    "total_harga_sebelum_diskon = jumlah_buku * harga_per_buku\n",
    "\n",
    "total_harga_setelah_diskon = total_harga_sebelum_diskon - (total_harga_sebelum_diskon * diskon)\n",
    "\n",
    "print(f\"Diskon yang didapatkan: {int(diskon * 100)}%\")\n",
    "print(f\"Total harga sebelum diskon: Rp {total_harga_sebelum_diskon:.2f}\")\n",
    "print(f\"Total harga setelah diskon: Rp {total_harga_setelah_diskon:.2f}\")"
   ]
  },
  {
   "cell_type": "markdown",
   "metadata": {},
   "source": [
    "**Soal 9**: Seorang mahasiswa ingin menentukan apakah suatu bilangan positif, negatif, atau nol. Jika 3 angka terakhir NIM Anda genap, cetak \"Positif\". Jika ganjil, cetak \"Negatif\"."
   ]
  },
  {
   "cell_type": "code",
   "execution_count": 9,
   "metadata": {},
   "outputs": [
    {
     "name": "stdout",
     "output_type": "stream",
     "text": [
      "Positif\n"
     ]
    }
   ],
   "source": [
    "nim = 90  \n",
    "\n",
    "if nim > 0:\n",
    "    if nim % 2 == 0:  \n",
    "        print(\"Positif\")\n",
    "    else:  \n",
    "        print(\"Negatif\")\n",
    "elif nim < 0:\n",
    "    if nim % 2 == 0:  \n",
    "        print(\"Positif\")\n",
    "    else:  \n",
    "        print(\"Negatif\")\n",
    "else:  \n",
    "    print(\"Nol\")"
   ]
  },
  {
   "cell_type": "markdown",
   "metadata": {},
   "source": [
    "**Soal 10**: Sebuah aplikasi menentukan apakah suatu bilangan adalah bilangan Armstrong. Jika 3 angka terakhir NIM Anda genap, cetak \"Armstrong\". Jika ganjil, cetak \"Bukan Armstrong\"."
   ]
  },
  {
   "cell_type": "code",
   "execution_count": 10,
   "metadata": {},
   "outputs": [
    {
     "name": "stdout",
     "output_type": "stream",
     "text": [
      "bilangan armstrong\n"
     ]
    }
   ],
   "source": [
    "nim = 90  \n",
    "\n",
    "if nim % 2 ==0 :\n",
    "    print(\"bilangan armstrong\")\n",
    "else:\n",
    "    print (\"bukan bilangan armstrong\")"
   ]
  },
  {
   "cell_type": "markdown",
   "metadata": {},
   "source": [
    "**Soal 11**: Seorang pelanggan ingin mencetak daftar belanjaannya sebanyak (3 angka terakhir NIM Anda % 7) kali. Buat program untuk mencetak daftar belanja tersebut."
   ]
  },
  {
   "cell_type": "code",
   "execution_count": 11,
   "metadata": {},
   "outputs": [
    {
     "name": "stdout",
     "output_type": "stream",
     "text": [
      "Daftar belanjaan ke-1: telur, ayam potong, dan buah semangka \n",
      "Daftar belanjaan ke-2: telur, ayam potong, dan buah semangka \n",
      "Daftar belanjaan ke-3: telur, ayam potong, dan buah semangka \n",
      "Daftar belanjaan ke-4: telur, ayam potong, dan buah semangka \n",
      "Daftar belanjaan ke-5: telur, ayam potong, dan buah semangka \n",
      "Daftar belanjaan ke-6: telur, ayam potong, dan buah semangka \n"
     ]
    }
   ],
   "source": [
    "daftar_belanja = \"telur, ayam potong, dan buah semangka \"\n",
    "nim = 90   \n",
    "\n",
    "jumlah_pengulangan = nim % 7\n",
    "\n",
    "for i in range(jumlah_pengulangan):\n",
    "    print(f\"Daftar belanjaan ke-{i+1}: {daftar_belanja}\")"
   ]
  },
  {
   "cell_type": "markdown",
   "metadata": {},
   "source": [
    "**Soal 12**: Seorang guru ingin mencetak angka dari 1 sampai 50, tetapi hanya bilangan kelipatan (3 angka terakhir NIM Anda % 6). Buat program untuk mencetak bilangan tersebut."
   ]
  },
  {
   "cell_type": "code",
   "execution_count": 12,
   "metadata": {},
   "outputs": [
    {
     "name": "stdout",
     "output_type": "stream",
     "text": [
      "Bilangan kelipatan 2 dari 1 sampai 50:\n",
      "2 4 6 8 10 12 14 16 18 20 22 24 26 28 30 32 34 36 38 40 42 44 46 48 50 "
     ]
    }
   ],
   "source": [
    "nim = 50\n",
    "\n",
    "kelipatan = nim % 6\n",
    "\n",
    "print(f\"Bilangan kelipatan {kelipatan} dari 1 sampai 50:\")\n",
    "for i in range(1, 51):\n",
    "    if i % kelipatan == 0:\n",
    "        print(i, end=\" \")"
   ]
  },
  {
   "cell_type": "markdown",
   "metadata": {},
   "source": [
    "**Soal 13**: Seorang penjual ingin mencetak tabel perkalian (3 angka terakhir NIM Anda % 8). Buat program untuk mencetak tabel tersebut."
   ]
  },
  {
   "cell_type": "code",
   "execution_count": 13,
   "metadata": {},
   "outputs": [
    {
     "name": "stdout",
     "output_type": "stream",
     "text": [
      "Tabel perkalian 2:\n",
      "2 x 1 = 2\n",
      "2 x 2 = 4\n",
      "2 x 3 = 6\n",
      "2 x 4 = 8\n",
      "2 x 5 = 10\n",
      "2 x 6 = 12\n",
      "2 x 7 = 14\n",
      "2 x 8 = 16\n",
      "2 x 9 = 18\n",
      "2 x 10 = 20\n"
     ]
    }
   ],
   "source": [
    "nim = 90   \n",
    "\n",
    "angka = nim % 8\n",
    "\n",
    "print(f\"Tabel perkalian {angka}:\")\n",
    "for i in range(1, 11):\n",
    "    print(f\"{angka} x {i} = {angka * i}\")"
   ]
  },
  {
   "cell_type": "markdown",
   "metadata": {},
   "source": [
    "**Soal 14**: Seorang pelukis ingin mencetak pola bintang persegi dengan sisi (3 angka terakhir NIM Anda % 5). Buat program untuk mencetak pola tersebut."
   ]
  },
  {
   "cell_type": "code",
   "execution_count": 14,
   "metadata": {},
   "outputs": [
    {
     "name": "stdout",
     "output_type": "stream",
     "text": [
      "Pola bintang persegi dengan sisi 0:\n"
     ]
    }
   ],
   "source": [
    "nim = 90  \n",
    "\n",
    "\n",
    "sisi = nim % 5\n",
    "\n",
    "print(f\"Pola bintang persegi dengan sisi {sisi}:\")\n",
    "for i in range(sisi):  \n",
    "    for j in range(sisi): \n",
    "        print(\"*\", end=\" \") \n",
    "    print() "
   ]
  },
  {
   "cell_type": "markdown",
   "metadata": {},
   "source": [
    "**Soal 15**: Seorang peneliti ingin mencetak bilangan komposit dari 1 sampai (3 angka terakhir NIM Anda). Buat program untuk mencetak bilangan tersebut."
   ]
  },
  {
   "cell_type": "code",
   "execution_count": 15,
   "metadata": {},
   "outputs": [
    {
     "name": "stdout",
     "output_type": "stream",
     "text": [
      "Bilangan komposit dari 1 sampai 90:\n",
      "4 6 8 9 10 12 14 15 16 18 20 21 22 24 25 26 27 28 30 32 33 34 35 36 38 39 40 42 44 45 46 48 49 50 51 52 54 55 56 57 58 60 62 63 64 65 66 68 69 70 72 74 75 76 77 78 80 81 82 84 85 86 87 88 90 "
     ]
    }
   ],
   "source": [
    "nim = 90  \n",
    "\n",
    "def is_komposit(n):\n",
    "    if n < 2:\n",
    "        return False\n",
    "    for i in range(2, int(n**0.5) + 1):\n",
    "        if n % i == 0:\n",
    "            return True\n",
    "    return False\n",
    "\n",
    "print(f\"Bilangan komposit dari 1 sampai {nim}:\")\n",
    "for i in range(1, nim + 1):\n",
    "    if is_komposit(i):\n",
    "        print(i, end=\" \")"
   ]
  },
  {
   "cell_type": "markdown",
   "metadata": {},
   "source": [
    "**Soal 16**: Seorang programmer ingin mencetak deret kuadrat dari 1 sampai (3 angka terakhir NIM Anda % 10). Buat program untuk mencetak deret tersebut."
   ]
  },
  {
   "cell_type": "code",
   "execution_count": 16,
   "metadata": {},
   "outputs": [
    {
     "name": "stdout",
     "output_type": "stream",
     "text": [
      "Deret kuadrat dari 1 sampai 0:\n"
     ]
    }
   ],
   "source": [
    "nim = 90  \n",
    "\n",
    "batas = nim % 10\n",
    "\n",
    "print(f\"Deret kuadrat dari 1 sampai {batas}:\")\n",
    "for i in range(1, batas + 1):\n",
    "    print(f\"{i}^2 = {i**2}\")"
   ]
  },
  {
   "cell_type": "markdown",
   "metadata": {},
   "source": [
    "**Soal 17**: Seorang petani ingin mencetak bilangan kelipatan (3 angka terakhir NIM Anda % 7) dari 1 sampai 100. Buat program untuk mencetak bilangan tersebut."
   ]
  },
  {
   "cell_type": "code",
   "execution_count": 17,
   "metadata": {},
   "outputs": [
    {
     "name": "stdout",
     "output_type": "stream",
     "text": [
      "Bilangan kelipatan 6 dari 1 sampai 100:\n",
      "6 12 18 24 30 36 42 48 54 60 66 72 78 84 90 96 "
     ]
    }
   ],
   "source": [
    "nim = 90  \n",
    "\n",
    "kelipatan = nim % 7\n",
    "\n",
    "print(f\"Bilangan kelipatan {kelipatan} dari 1 sampai 100:\")\n",
    "for i in range(1, 101):\n",
    "    if i % kelipatan == 0:\n",
    "        print(i, end=\" \")"
   ]
  },
  {
   "cell_type": "markdown",
   "metadata": {},
   "source": [
    "**Soal 18**: Seorang siswa ingin mencetak bilangan genap dari 2 sampai (3 angka terakhir NIM Anda). Buat program untuk mencetak bilangan tersebut."
   ]
  },
  {
   "cell_type": "code",
   "execution_count": 18,
   "metadata": {},
   "outputs": [
    {
     "name": "stdout",
     "output_type": "stream",
     "text": [
      "Bilangan genap dari 2 sampai 90:\n",
      "2 4 6 8 10 12 14 16 18 20 22 24 26 28 30 32 34 36 38 40 42 44 46 48 50 52 54 56 58 60 62 64 66 68 70 72 74 76 78 80 82 84 86 88 90 "
     ]
    }
   ],
   "source": [
    "nim = 90  \n",
    "\n",
    "print(f\"Bilangan genap dari 2 sampai {nim}:\")\n",
    "for i in range(2, nim + 1, 2):\n",
    "    print(i, end=\" \")"
   ]
  },
  {
   "cell_type": "markdown",
   "metadata": {},
   "source": [
    "**Soal 19**: Seorang penjual ingin mencetak faktorial dari (3 angka terakhir NIM Anda % 6). Buat program untuk mencetak faktorial tersebut."
   ]
  },
  {
   "cell_type": "code",
   "execution_count": 19,
   "metadata": {},
   "outputs": [
    {
     "name": "stdout",
     "output_type": "stream",
     "text": [
      "Faktorial dari 0 adalah: 1\n"
     ]
    }
   ],
   "source": [
    "nim = 90  \n",
    "\n",
    "n = nim % 6\n",
    "\n",
    "def faktorial(n):\n",
    "    if n == 0 or n == 1:\n",
    "        return 1\n",
    "    else:\n",
    "        return n * faktorial(n - 1)\n",
    "\n",
    "hasil_faktorial = faktorial(n)\n",
    "print(f\"Faktorial dari {n} adalah: {hasil_faktorial}\")"
   ]
  },
  {
   "cell_type": "markdown",
   "metadata": {},
   "source": [
    "**Soal 20**: Seorang pelanggan ingin mencetak \"Selamat Datang\" sebanyak (3 angka terakhir NIM Anda % 4) kali. Buat program untuk mencetak pesan tersebut."
   ]
  },
  {
   "cell_type": "code",
   "execution_count": 20,
   "metadata": {},
   "outputs": [
    {
     "name": "stdout",
     "output_type": "stream",
     "text": [
      "Mencetak 'Selamat Datang' sebanyak 2 kali:\n",
      "Selamat Datang\n",
      "Selamat Datang\n"
     ]
    }
   ],
   "source": [
    "nim = 90  \n",
    "\n",
    "jumlah_pengulangan = nim % 4\n",
    "\n",
    "print(f\"Mencetak 'Selamat Datang' sebanyak {jumlah_pengulangan} kali:\")\n",
    "for i in range(jumlah_pengulangan):\n",
    "    print(\"Selamat Datang\")"
   ]
  }
 ],
 "metadata": {
  "kernelspec": {
   "display_name": "Python 3",
   "language": "python",
   "name": "python3"
  },
  "language_info": {
   "codemirror_mode": {
    "name": "ipython",
    "version": 3
   },
   "file_extension": ".py",
   "mimetype": "text/x-python",
   "name": "python",
   "nbconvert_exporter": "python",
   "pygments_lexer": "ipython3",
   "version": "3.13.2"
  }
 },
 "nbformat": 4,
 "nbformat_minor": 2
}
